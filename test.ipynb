{
 "cells": [
  {
   "cell_type": "code",
   "execution_count": 1,
   "metadata": {},
   "outputs": [],
   "source": [
    "import psycopg2"
   ]
  },
  {
   "cell_type": "code",
   "execution_count": 105,
   "metadata": {},
   "outputs": [],
   "source": [
    "conn = psycopg2.connect(host='localhost',dbname='postgres',user='postgres',password='4coding4bttrlife',port=5432)\n",
    "cur = conn.cursor()"
   ]
  },
  {
   "cell_type": "code",
   "execution_count": 106,
   "metadata": {},
   "outputs": [],
   "source": [
    "cur.execute(\"\"\"CREATE TABLE IF NOT EXISTS TRACKED_YT_CHANNELS (\n",
    "            channel VARCHAR(255) PRIMARY KEY);\"\"\")"
   ]
  },
  {
   "cell_type": "code",
   "execution_count": 114,
   "metadata": {},
   "outputs": [
    {
     "ename": "InFailedSqlTransaction",
     "evalue": "current transaction is aborted, commands ignored until end of transaction block\n",
     "output_type": "error",
     "traceback": [
      "\u001b[1;31m---------------------------------------------------------------------------\u001b[0m",
      "\u001b[1;31mInFailedSqlTransaction\u001b[0m                    Traceback (most recent call last)",
      "Cell \u001b[1;32mIn[114], line 1\u001b[0m\n\u001b[1;32m----> 1\u001b[0m \u001b[43mcur\u001b[49m\u001b[38;5;241;43m.\u001b[39;49m\u001b[43mexecute\u001b[49m\u001b[43m(\u001b[49m\u001b[38;5;124;43m\"\"\"\u001b[39;49m\u001b[38;5;124;43mINSERT INTO TRACKED_YT_CHANNELS (channel) VALUES (\u001b[39;49m\u001b[38;5;124;43m'\u001b[39;49m\u001b[38;5;124;43mherself\u001b[39;49m\u001b[38;5;124;43m'\u001b[39;49m\u001b[38;5;124;43m);\u001b[39;49m\u001b[38;5;124;43m\"\"\"\u001b[39;49m\u001b[43m)\u001b[49m\n",
      "\u001b[1;31mInFailedSqlTransaction\u001b[0m: current transaction is aborted, commands ignored until end of transaction block\n"
     ]
    }
   ],
   "source": [
    "cur.execute(\"\"\"INSERT INTO TRACKED_YT_CHANNELS (channel) VALUES ('herself');\"\"\")"
   ]
  },
  {
   "cell_type": "code",
   "execution_count": 109,
   "metadata": {},
   "outputs": [],
   "source": [
    "conn.commit()"
   ]
  },
  {
   "cell_type": "code",
   "execution_count": 110,
   "metadata": {},
   "outputs": [
    {
     "data": {
      "text/plain": [
       "['damn', 'dude', 'herself']"
      ]
     },
     "execution_count": 110,
     "metadata": {},
     "output_type": "execute_result"
    }
   ],
   "source": [
    "cur.execute(\"\"\"SELECT * FROM TRACKED_YT_CHANNELS\"\"\")\n",
    "yt_channels_postgres = cur.fetchall()\n",
    "TRACKED_YT_CHANNELS = [channel_tuple[0] for channel_tuple in yt_channels_postgres]\n",
    "TRACKED_YT_CHANNELS"
   ]
  },
  {
   "cell_type": "code",
   "execution_count": 115,
   "metadata": {},
   "outputs": [],
   "source": [
    "cur.close()\n",
    "conn.close()"
   ]
  },
  {
   "cell_type": "code",
   "execution_count": null,
   "metadata": {},
   "outputs": [],
   "source": [
    "try:\n",
    "    conn = psycopg2.connect(host='localhost',dbname='postgres',user='postgres',password='4coding4bttrlife',port=5432)\n",
    "    cur = conn.cursor()\n",
    "    cur.execute(\"\"\"SELECT * FROM ppl\"\"\")\n",
    "except psycopg2.errors.UndefinedTable:\n",
    "    print('table does not exist')\n",
    "finally:\n",
    "    cur.close()\n",
    "    conn.close()"
   ]
  },
  {
   "cell_type": "code",
   "execution_count": 136,
   "metadata": {},
   "outputs": [],
   "source": [
    "import psycopg2\n",
    "\n",
    "\n",
    "\n",
    "def insert_yt_creators(host, dbname, user, password, port, new_channels):\n",
    "    try:\n",
    "        # Establish db connection\n",
    "        conn = psycopg2.connect(host=host,dbname=dbname,user=user,password=password,port=port)\n",
    "        cur = conn.cursor()\n",
    "        for channel in new_channels:\n",
    "            try:\n",
    "                cur.execute(f\"\"\"INSERT INTO TRACKED_YT_CHANNELS (channel) VALUES ('{channel}');\"\"\")\n",
    "                conn.commit()\n",
    "            except psycopg2.errors.UniqueViolation:\n",
    "                conn.rollback()\n",
    "                # REPLACE BELOW WITH await bot.send_message(ADMIN_GROUP_CHAT_ID, f'Table \"TRACKED_YT_CHANNELS\" does not exist, creating one...')\n",
    "                print(f'Channel {channel} already exists in DB!')\n",
    "            except psycopg2.errors.UndefinedTable:\n",
    "                conn.rollback()\n",
    "                # REPLACE BELOW WITH  await bot.send_message(ADMIN_GROUP_CHAT_ID, f'Table \"TRACKED_YT_CHANNELS\" does not exist, creating one...')\n",
    "                print('Table \"TRACKED_YT_CHANNELS\" does not exist, creating one...') \n",
    "                cur.execute(\"\"\"CREATE TABLE IF NOT EXISTS TRACKED_YT_CHANNELS (\n",
    "                                channel VARCHAR(255) PRIMARY KEY);\"\"\")\n",
    "                cur.execute(f\"\"\"INSERT INTO TRACKED_YT_CHANNELS (channel) VALUES ('{channel}');\"\"\")\n",
    "                conn.commit()\n",
    "\n",
    "    except psycopg2.errors.OperationalError:\n",
    "        raise('ERROR: cannot connect to PostgreSQL while insert_new_yt_creators()')\n",
    "    finally:\n",
    "        cur.close()\n",
    "        conn.close()\n",
    "\n",
    "def remove_yt_creators(host, dbname, user, password, port, bad_channels):\n",
    "    try:\n",
    "        # Establish db connection\n",
    "        conn = psycopg2.connect(host=host,dbname=dbname,user=user,password=password,port=port)\n",
    "        cur = conn.cursor()\n",
    "        for channel in bad_channels:\n",
    "            cur.execute(f\"\"\"DELETE FROM TRACKED_YT_CHANNELS WHERE channel = '{channel}';\"\"\")\n",
    "            conn.commit()\n",
    "\n",
    "    except psycopg2.errors.OperationalError:\n",
    "        raise('ERROR: cannot connect to PostgreSQL while remove_yt_creators()')\n",
    "    finally:\n",
    "        cur.close()\n",
    "        conn.close()\n",
    "\n",
    "\n",
    "def insert_new_video_urls(host, dbname, user, password, port, new_video_urls, table_name='USED_VIDEO_URLS'):\n",
    "    try:\n",
    "        # Establish db connection\n",
    "        conn = psycopg2.connect(host=host,dbname=dbname,user=user,password=password,port=port)\n",
    "        cur = conn.cursor()\n",
    "        for video_url in new_video_urls:\n",
    "            try:\n",
    "                cur.execute(f\"\"\"INSERT INTO {table_name} (video_url) VALUES ('{video_url}');\"\"\")\n",
    "                conn.commit()\n",
    "            except psycopg2.errors.UniqueViolation:\n",
    "                conn.rollback()\n",
    "                # REPLACE BELOW WITH await bot.send_message(ADMIN_GROUP_CHAT_ID, f'Table \"{table_name}\" does not exist, creating one...')\n",
    "                print(f'Video_url {video_url} already exists in DB!')\n",
    "            except psycopg2.errors.UndefinedTable:\n",
    "                conn.rollback()\n",
    "                # REPLACE BELOW WITH  await bot.send_message(ADMIN_GROUP_CHAT_ID, f'Table \"{table_name}\" does not exist, creating one...')\n",
    "                print(f'Table \"{table_name}\" does not exist, creating one...') \n",
    "                cur.execute(f\"\"\"CREATE TABLE IF NOT EXISTS {table_name} (\n",
    "                                video_url VARCHAR(255) PRIMARY KEY);\"\"\")\n",
    "                cur.execute(f\"\"\"INSERT INTO {table_name} (video_url) VALUES ('{video_url}');\"\"\")\n",
    "                conn.commit()\n",
    "\n",
    "    except psycopg2.errors.OperationalError:\n",
    "        raise('ERROR: cannot connect to PostgreSQL while insert_new_video_urls()')\n",
    "    finally:\n",
    "        cur.close()\n",
    "        conn.close()\n",
    "\n",
    "new_channels = ['lol','kek']\n",
    "    \n",
    "insert_new_video_urls('localhost','postgres','postgres','4coding4bttrlife',5432,new_channels)"
   ]
  },
  {
   "cell_type": "code",
   "execution_count": 125,
   "metadata": {},
   "outputs": [],
   "source": [
    "conn = psycopg2.connect(host='localhost',dbname='postgres',user='postgres',password='4coding4bttrlife',port=5432)\n",
    "cur = conn.cursor()\n",
    "cur.execute(f\"\"\"DELETE FROM TRACKED_YT_CHANNELS WHERE channel = 'chebu';\"\"\")\n"
   ]
  },
  {
   "cell_type": "code",
   "execution_count": 71,
   "metadata": {},
   "outputs": [
    {
     "data": {
      "text/plain": [
       "{'myself'}"
      ]
     },
     "execution_count": 71,
     "metadata": {},
     "output_type": "execute_result"
    }
   ],
   "source": [
    "existing = {'herself', 'myself'}\n",
    "new = ['himself','myself']\n",
    "\n",
    "duplicate_urls = set(new) & existing\n",
    "duplicate_urls"
   ]
  },
  {
   "cell_type": "code",
   "execution_count": null,
   "metadata": {},
   "outputs": [],
   "source": []
  }
 ],
 "metadata": {
  "kernelspec": {
   "display_name": ".venv",
   "language": "python",
   "name": "python3"
  },
  "language_info": {
   "codemirror_mode": {
    "name": "ipython",
    "version": 3
   },
   "file_extension": ".py",
   "mimetype": "text/x-python",
   "name": "python",
   "nbconvert_exporter": "python",
   "pygments_lexer": "ipython3",
   "version": "3.12.3"
  }
 },
 "nbformat": 4,
 "nbformat_minor": 2
}
